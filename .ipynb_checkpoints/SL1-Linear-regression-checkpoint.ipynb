{
 "cells": [
  {
   "cell_type": "markdown",
   "metadata": {},
   "source": [
    "# SL1 - Linear regression\n",
    "## Data analysis of the imdb database\n",
    "\n",
    "The dataset can be obtained from https://www.kaggle.com/karrrimba/movie-metadatacsv\n",
    "\n",
    "We will use the pandas library for Python. Some tutorials can be found at https://pandas.pydata.org/pandas-docs/stable/getting_started/tutorials.html"
   ]
  },
  {
   "cell_type": "code",
   "execution_count": 1,
   "metadata": {},
   "outputs": [],
   "source": [
    "%matplotlib inline\n",
    "\n",
    "import numpy as np\n",
    "import pandas as pd\n",
    "import matplotlib.pyplot as plt"
   ]
  },
  {
   "cell_type": "code",
   "execution_count": 2,
   "metadata": {},
   "outputs": [],
   "source": [
    "# Reading csv data\n",
    "data = pd.read_csv(\"./Data/movie_metadata.csv\")"
   ]
  },
  {
   "cell_type": "code",
   "execution_count": 3,
   "metadata": {},
   "outputs": [
    {
     "data": {
      "text/html": [
       "<div>\n",
       "<style scoped>\n",
       "    .dataframe tbody tr th:only-of-type {\n",
       "        vertical-align: middle;\n",
       "    }\n",
       "\n",
       "    .dataframe tbody tr th {\n",
       "        vertical-align: top;\n",
       "    }\n",
       "\n",
       "    .dataframe thead th {\n",
       "        text-align: right;\n",
       "    }\n",
       "</style>\n",
       "<table border=\"1\" class=\"dataframe\">\n",
       "  <thead>\n",
       "    <tr style=\"text-align: right;\">\n",
       "      <th></th>\n",
       "      <th>color</th>\n",
       "      <th>director_name</th>\n",
       "      <th>num_critic_for_reviews</th>\n",
       "      <th>duration</th>\n",
       "      <th>director_facebook_likes</th>\n",
       "      <th>actor_3_facebook_likes</th>\n",
       "      <th>actor_2_name</th>\n",
       "      <th>actor_1_facebook_likes</th>\n",
       "      <th>gross</th>\n",
       "      <th>genres</th>\n",
       "      <th>...</th>\n",
       "      <th>num_user_for_reviews</th>\n",
       "      <th>language</th>\n",
       "      <th>country</th>\n",
       "      <th>content_rating</th>\n",
       "      <th>budget</th>\n",
       "      <th>title_year</th>\n",
       "      <th>actor_2_facebook_likes</th>\n",
       "      <th>imdb_score</th>\n",
       "      <th>aspect_ratio</th>\n",
       "      <th>movie_facebook_likes</th>\n",
       "    </tr>\n",
       "  </thead>\n",
       "  <tbody>\n",
       "    <tr>\n",
       "      <th>0</th>\n",
       "      <td>Color</td>\n",
       "      <td>James Cameron</td>\n",
       "      <td>723.0</td>\n",
       "      <td>178.0</td>\n",
       "      <td>0.0</td>\n",
       "      <td>855.0</td>\n",
       "      <td>Joel David Moore</td>\n",
       "      <td>1000.0</td>\n",
       "      <td>760505847.0</td>\n",
       "      <td>Action|Adventure|Fantasy|Sci-Fi</td>\n",
       "      <td>...</td>\n",
       "      <td>3054.0</td>\n",
       "      <td>English</td>\n",
       "      <td>USA</td>\n",
       "      <td>PG-13</td>\n",
       "      <td>237000000.0</td>\n",
       "      <td>2009.0</td>\n",
       "      <td>936.0</td>\n",
       "      <td>7.9</td>\n",
       "      <td>1.78</td>\n",
       "      <td>33000</td>\n",
       "    </tr>\n",
       "    <tr>\n",
       "      <th>1</th>\n",
       "      <td>Color</td>\n",
       "      <td>Gore Verbinski</td>\n",
       "      <td>302.0</td>\n",
       "      <td>169.0</td>\n",
       "      <td>563.0</td>\n",
       "      <td>1000.0</td>\n",
       "      <td>Orlando Bloom</td>\n",
       "      <td>40000.0</td>\n",
       "      <td>309404152.0</td>\n",
       "      <td>Action|Adventure|Fantasy</td>\n",
       "      <td>...</td>\n",
       "      <td>1238.0</td>\n",
       "      <td>English</td>\n",
       "      <td>USA</td>\n",
       "      <td>PG-13</td>\n",
       "      <td>300000000.0</td>\n",
       "      <td>2007.0</td>\n",
       "      <td>5000.0</td>\n",
       "      <td>7.1</td>\n",
       "      <td>2.35</td>\n",
       "      <td>0</td>\n",
       "    </tr>\n",
       "    <tr>\n",
       "      <th>2</th>\n",
       "      <td>Color</td>\n",
       "      <td>Sam Mendes</td>\n",
       "      <td>602.0</td>\n",
       "      <td>148.0</td>\n",
       "      <td>0.0</td>\n",
       "      <td>161.0</td>\n",
       "      <td>Rory Kinnear</td>\n",
       "      <td>11000.0</td>\n",
       "      <td>200074175.0</td>\n",
       "      <td>Action|Adventure|Thriller</td>\n",
       "      <td>...</td>\n",
       "      <td>994.0</td>\n",
       "      <td>English</td>\n",
       "      <td>UK</td>\n",
       "      <td>PG-13</td>\n",
       "      <td>245000000.0</td>\n",
       "      <td>2015.0</td>\n",
       "      <td>393.0</td>\n",
       "      <td>6.8</td>\n",
       "      <td>2.35</td>\n",
       "      <td>85000</td>\n",
       "    </tr>\n",
       "    <tr>\n",
       "      <th>3</th>\n",
       "      <td>Color</td>\n",
       "      <td>Christopher Nolan</td>\n",
       "      <td>813.0</td>\n",
       "      <td>164.0</td>\n",
       "      <td>22000.0</td>\n",
       "      <td>23000.0</td>\n",
       "      <td>Christian Bale</td>\n",
       "      <td>27000.0</td>\n",
       "      <td>448130642.0</td>\n",
       "      <td>Action|Thriller</td>\n",
       "      <td>...</td>\n",
       "      <td>2701.0</td>\n",
       "      <td>English</td>\n",
       "      <td>USA</td>\n",
       "      <td>PG-13</td>\n",
       "      <td>250000000.0</td>\n",
       "      <td>2012.0</td>\n",
       "      <td>23000.0</td>\n",
       "      <td>8.5</td>\n",
       "      <td>2.35</td>\n",
       "      <td>164000</td>\n",
       "    </tr>\n",
       "    <tr>\n",
       "      <th>4</th>\n",
       "      <td>NaN</td>\n",
       "      <td>Doug Walker</td>\n",
       "      <td>NaN</td>\n",
       "      <td>NaN</td>\n",
       "      <td>131.0</td>\n",
       "      <td>NaN</td>\n",
       "      <td>Rob Walker</td>\n",
       "      <td>131.0</td>\n",
       "      <td>NaN</td>\n",
       "      <td>Documentary</td>\n",
       "      <td>...</td>\n",
       "      <td>NaN</td>\n",
       "      <td>NaN</td>\n",
       "      <td>NaN</td>\n",
       "      <td>NaN</td>\n",
       "      <td>NaN</td>\n",
       "      <td>NaN</td>\n",
       "      <td>12.0</td>\n",
       "      <td>7.1</td>\n",
       "      <td>NaN</td>\n",
       "      <td>0</td>\n",
       "    </tr>\n",
       "  </tbody>\n",
       "</table>\n",
       "<p>5 rows × 28 columns</p>\n",
       "</div>"
      ],
      "text/plain": [
       "   color      director_name  num_critic_for_reviews  duration  \\\n",
       "0  Color      James Cameron                   723.0     178.0   \n",
       "1  Color     Gore Verbinski                   302.0     169.0   \n",
       "2  Color         Sam Mendes                   602.0     148.0   \n",
       "3  Color  Christopher Nolan                   813.0     164.0   \n",
       "4    NaN        Doug Walker                     NaN       NaN   \n",
       "\n",
       "   director_facebook_likes  actor_3_facebook_likes      actor_2_name  \\\n",
       "0                      0.0                   855.0  Joel David Moore   \n",
       "1                    563.0                  1000.0     Orlando Bloom   \n",
       "2                      0.0                   161.0      Rory Kinnear   \n",
       "3                  22000.0                 23000.0    Christian Bale   \n",
       "4                    131.0                     NaN        Rob Walker   \n",
       "\n",
       "   actor_1_facebook_likes        gross                           genres  ...  \\\n",
       "0                  1000.0  760505847.0  Action|Adventure|Fantasy|Sci-Fi  ...   \n",
       "1                 40000.0  309404152.0         Action|Adventure|Fantasy  ...   \n",
       "2                 11000.0  200074175.0        Action|Adventure|Thriller  ...   \n",
       "3                 27000.0  448130642.0                  Action|Thriller  ...   \n",
       "4                   131.0          NaN                      Documentary  ...   \n",
       "\n",
       "  num_user_for_reviews language  country  content_rating       budget  \\\n",
       "0               3054.0  English      USA           PG-13  237000000.0   \n",
       "1               1238.0  English      USA           PG-13  300000000.0   \n",
       "2                994.0  English       UK           PG-13  245000000.0   \n",
       "3               2701.0  English      USA           PG-13  250000000.0   \n",
       "4                  NaN      NaN      NaN             NaN          NaN   \n",
       "\n",
       "   title_year actor_2_facebook_likes imdb_score  aspect_ratio  \\\n",
       "0      2009.0                  936.0        7.9          1.78   \n",
       "1      2007.0                 5000.0        7.1          2.35   \n",
       "2      2015.0                  393.0        6.8          2.35   \n",
       "3      2012.0                23000.0        8.5          2.35   \n",
       "4         NaN                   12.0        7.1           NaN   \n",
       "\n",
       "  movie_facebook_likes  \n",
       "0                33000  \n",
       "1                    0  \n",
       "2                85000  \n",
       "3               164000  \n",
       "4                    0  \n",
       "\n",
       "[5 rows x 28 columns]"
      ]
     },
     "execution_count": 3,
     "metadata": {},
     "output_type": "execute_result"
    }
   ],
   "source": [
    "data.head()"
   ]
  },
  {
   "cell_type": "code",
   "execution_count": 4,
   "metadata": {},
   "outputs": [
    {
     "data": {
      "text/html": [
       "<div>\n",
       "<style scoped>\n",
       "    .dataframe tbody tr th:only-of-type {\n",
       "        vertical-align: middle;\n",
       "    }\n",
       "\n",
       "    .dataframe tbody tr th {\n",
       "        vertical-align: top;\n",
       "    }\n",
       "\n",
       "    .dataframe thead th {\n",
       "        text-align: right;\n",
       "    }\n",
       "</style>\n",
       "<table border=\"1\" class=\"dataframe\">\n",
       "  <thead>\n",
       "    <tr style=\"text-align: right;\">\n",
       "      <th></th>\n",
       "      <th>num_critic_for_reviews</th>\n",
       "      <th>duration</th>\n",
       "      <th>director_facebook_likes</th>\n",
       "      <th>actor_3_facebook_likes</th>\n",
       "      <th>actor_1_facebook_likes</th>\n",
       "      <th>gross</th>\n",
       "      <th>num_voted_users</th>\n",
       "      <th>cast_total_facebook_likes</th>\n",
       "      <th>facenumber_in_poster</th>\n",
       "      <th>num_user_for_reviews</th>\n",
       "      <th>budget</th>\n",
       "      <th>title_year</th>\n",
       "      <th>actor_2_facebook_likes</th>\n",
       "      <th>imdb_score</th>\n",
       "      <th>aspect_ratio</th>\n",
       "      <th>movie_facebook_likes</th>\n",
       "    </tr>\n",
       "  </thead>\n",
       "  <tbody>\n",
       "    <tr>\n",
       "      <th>count</th>\n",
       "      <td>4993.000000</td>\n",
       "      <td>5028.000000</td>\n",
       "      <td>4939.000000</td>\n",
       "      <td>5020.000000</td>\n",
       "      <td>5036.000000</td>\n",
       "      <td>4.159000e+03</td>\n",
       "      <td>5.043000e+03</td>\n",
       "      <td>5043.000000</td>\n",
       "      <td>5030.000000</td>\n",
       "      <td>5022.000000</td>\n",
       "      <td>4.551000e+03</td>\n",
       "      <td>4935.000000</td>\n",
       "      <td>5030.000000</td>\n",
       "      <td>5043.000000</td>\n",
       "      <td>4714.000000</td>\n",
       "      <td>5043.000000</td>\n",
       "    </tr>\n",
       "    <tr>\n",
       "      <th>mean</th>\n",
       "      <td>140.194272</td>\n",
       "      <td>107.201074</td>\n",
       "      <td>686.509212</td>\n",
       "      <td>645.009761</td>\n",
       "      <td>6560.047061</td>\n",
       "      <td>4.846841e+07</td>\n",
       "      <td>8.366816e+04</td>\n",
       "      <td>9699.063851</td>\n",
       "      <td>1.371173</td>\n",
       "      <td>272.770808</td>\n",
       "      <td>3.975262e+07</td>\n",
       "      <td>2002.470517</td>\n",
       "      <td>1651.754473</td>\n",
       "      <td>6.442138</td>\n",
       "      <td>2.220403</td>\n",
       "      <td>7525.964505</td>\n",
       "    </tr>\n",
       "    <tr>\n",
       "      <th>std</th>\n",
       "      <td>121.601675</td>\n",
       "      <td>25.197441</td>\n",
       "      <td>2813.328607</td>\n",
       "      <td>1665.041728</td>\n",
       "      <td>15020.759120</td>\n",
       "      <td>6.845299e+07</td>\n",
       "      <td>1.384853e+05</td>\n",
       "      <td>18163.799124</td>\n",
       "      <td>2.013576</td>\n",
       "      <td>377.982886</td>\n",
       "      <td>2.061149e+08</td>\n",
       "      <td>12.474599</td>\n",
       "      <td>4042.438863</td>\n",
       "      <td>1.125116</td>\n",
       "      <td>1.385113</td>\n",
       "      <td>19320.445110</td>\n",
       "    </tr>\n",
       "    <tr>\n",
       "      <th>min</th>\n",
       "      <td>1.000000</td>\n",
       "      <td>7.000000</td>\n",
       "      <td>0.000000</td>\n",
       "      <td>0.000000</td>\n",
       "      <td>0.000000</td>\n",
       "      <td>1.620000e+02</td>\n",
       "      <td>5.000000e+00</td>\n",
       "      <td>0.000000</td>\n",
       "      <td>0.000000</td>\n",
       "      <td>1.000000</td>\n",
       "      <td>2.180000e+02</td>\n",
       "      <td>1916.000000</td>\n",
       "      <td>0.000000</td>\n",
       "      <td>1.600000</td>\n",
       "      <td>1.180000</td>\n",
       "      <td>0.000000</td>\n",
       "    </tr>\n",
       "    <tr>\n",
       "      <th>25%</th>\n",
       "      <td>50.000000</td>\n",
       "      <td>93.000000</td>\n",
       "      <td>7.000000</td>\n",
       "      <td>133.000000</td>\n",
       "      <td>614.000000</td>\n",
       "      <td>5.340988e+06</td>\n",
       "      <td>8.593500e+03</td>\n",
       "      <td>1411.000000</td>\n",
       "      <td>0.000000</td>\n",
       "      <td>65.000000</td>\n",
       "      <td>6.000000e+06</td>\n",
       "      <td>1999.000000</td>\n",
       "      <td>281.000000</td>\n",
       "      <td>5.800000</td>\n",
       "      <td>1.850000</td>\n",
       "      <td>0.000000</td>\n",
       "    </tr>\n",
       "    <tr>\n",
       "      <th>50%</th>\n",
       "      <td>110.000000</td>\n",
       "      <td>103.000000</td>\n",
       "      <td>49.000000</td>\n",
       "      <td>371.500000</td>\n",
       "      <td>988.000000</td>\n",
       "      <td>2.551750e+07</td>\n",
       "      <td>3.435900e+04</td>\n",
       "      <td>3090.000000</td>\n",
       "      <td>1.000000</td>\n",
       "      <td>156.000000</td>\n",
       "      <td>2.000000e+07</td>\n",
       "      <td>2005.000000</td>\n",
       "      <td>595.000000</td>\n",
       "      <td>6.600000</td>\n",
       "      <td>2.350000</td>\n",
       "      <td>166.000000</td>\n",
       "    </tr>\n",
       "    <tr>\n",
       "      <th>75%</th>\n",
       "      <td>195.000000</td>\n",
       "      <td>118.000000</td>\n",
       "      <td>194.500000</td>\n",
       "      <td>636.000000</td>\n",
       "      <td>11000.000000</td>\n",
       "      <td>6.230944e+07</td>\n",
       "      <td>9.630900e+04</td>\n",
       "      <td>13756.500000</td>\n",
       "      <td>2.000000</td>\n",
       "      <td>326.000000</td>\n",
       "      <td>4.500000e+07</td>\n",
       "      <td>2011.000000</td>\n",
       "      <td>918.000000</td>\n",
       "      <td>7.200000</td>\n",
       "      <td>2.350000</td>\n",
       "      <td>3000.000000</td>\n",
       "    </tr>\n",
       "    <tr>\n",
       "      <th>max</th>\n",
       "      <td>813.000000</td>\n",
       "      <td>511.000000</td>\n",
       "      <td>23000.000000</td>\n",
       "      <td>23000.000000</td>\n",
       "      <td>640000.000000</td>\n",
       "      <td>7.605058e+08</td>\n",
       "      <td>1.689764e+06</td>\n",
       "      <td>656730.000000</td>\n",
       "      <td>43.000000</td>\n",
       "      <td>5060.000000</td>\n",
       "      <td>1.221550e+10</td>\n",
       "      <td>2016.000000</td>\n",
       "      <td>137000.000000</td>\n",
       "      <td>9.500000</td>\n",
       "      <td>16.000000</td>\n",
       "      <td>349000.000000</td>\n",
       "    </tr>\n",
       "  </tbody>\n",
       "</table>\n",
       "</div>"
      ],
      "text/plain": [
       "       num_critic_for_reviews     duration  director_facebook_likes  \\\n",
       "count             4993.000000  5028.000000              4939.000000   \n",
       "mean               140.194272   107.201074               686.509212   \n",
       "std                121.601675    25.197441              2813.328607   \n",
       "min                  1.000000     7.000000                 0.000000   \n",
       "25%                 50.000000    93.000000                 7.000000   \n",
       "50%                110.000000   103.000000                49.000000   \n",
       "75%                195.000000   118.000000               194.500000   \n",
       "max                813.000000   511.000000             23000.000000   \n",
       "\n",
       "       actor_3_facebook_likes  actor_1_facebook_likes         gross  \\\n",
       "count             5020.000000             5036.000000  4.159000e+03   \n",
       "mean               645.009761             6560.047061  4.846841e+07   \n",
       "std               1665.041728            15020.759120  6.845299e+07   \n",
       "min                  0.000000                0.000000  1.620000e+02   \n",
       "25%                133.000000              614.000000  5.340988e+06   \n",
       "50%                371.500000              988.000000  2.551750e+07   \n",
       "75%                636.000000            11000.000000  6.230944e+07   \n",
       "max              23000.000000           640000.000000  7.605058e+08   \n",
       "\n",
       "       num_voted_users  cast_total_facebook_likes  facenumber_in_poster  \\\n",
       "count     5.043000e+03                5043.000000           5030.000000   \n",
       "mean      8.366816e+04                9699.063851              1.371173   \n",
       "std       1.384853e+05               18163.799124              2.013576   \n",
       "min       5.000000e+00                   0.000000              0.000000   \n",
       "25%       8.593500e+03                1411.000000              0.000000   \n",
       "50%       3.435900e+04                3090.000000              1.000000   \n",
       "75%       9.630900e+04               13756.500000              2.000000   \n",
       "max       1.689764e+06              656730.000000             43.000000   \n",
       "\n",
       "       num_user_for_reviews        budget   title_year  \\\n",
       "count           5022.000000  4.551000e+03  4935.000000   \n",
       "mean             272.770808  3.975262e+07  2002.470517   \n",
       "std              377.982886  2.061149e+08    12.474599   \n",
       "min                1.000000  2.180000e+02  1916.000000   \n",
       "25%               65.000000  6.000000e+06  1999.000000   \n",
       "50%              156.000000  2.000000e+07  2005.000000   \n",
       "75%              326.000000  4.500000e+07  2011.000000   \n",
       "max             5060.000000  1.221550e+10  2016.000000   \n",
       "\n",
       "       actor_2_facebook_likes   imdb_score  aspect_ratio  movie_facebook_likes  \n",
       "count             5030.000000  5043.000000   4714.000000           5043.000000  \n",
       "mean              1651.754473     6.442138      2.220403           7525.964505  \n",
       "std               4042.438863     1.125116      1.385113          19320.445110  \n",
       "min                  0.000000     1.600000      1.180000              0.000000  \n",
       "25%                281.000000     5.800000      1.850000              0.000000  \n",
       "50%                595.000000     6.600000      2.350000            166.000000  \n",
       "75%                918.000000     7.200000      2.350000           3000.000000  \n",
       "max             137000.000000     9.500000     16.000000         349000.000000  "
      ]
     },
     "execution_count": 4,
     "metadata": {},
     "output_type": "execute_result"
    }
   ],
   "source": [
    "# Rapid description of the data\n",
    "data.describe()"
   ]
  },
  {
   "cell_type": "code",
   "execution_count": 5,
   "metadata": {},
   "outputs": [],
   "source": [
    "# Dropping data lines with NaN\n",
    "data.dropna(how='any',inplace=True)"
   ]
  },
  {
   "cell_type": "markdown",
   "metadata": {},
   "source": [
    "inplace means that we are applying the operation on the actual dataset, it will directly transform the dataset not a copy."
   ]
  },
  {
   "cell_type": "markdown",
   "metadata": {},
   "source": [
    "## Plotting data"
   ]
  },
  {
   "cell_type": "code",
   "execution_count": 23,
   "metadata": {},
   "outputs": [
    {
     "data": {
      "image/png": "[encoded data removed]",
      "text/plain": [
       "<Figure size 432x288 with 1 Axes>"
      ]
     },
     "metadata": {
      "needs_background": "light"
     },
     "output_type": "display_data"
    }
   ],
   "source": [
    "data_sample = data[data.movie_facebook_likes > 0]\n",
    "data_sample.plot.scatter(\"movie_facebook_likes\",\"gross\")\n",
    "plt.show()"
   ]
  },
  {
   "cell_type": "markdown",
   "metadata": {},
   "source": [
    "### Question 1\n",
    "Plot different variables and see whether you can spot some correlations. "
   ]
  },
  {
   "cell_type": "code",
   "execution_count": 42,
   "metadata": {},
   "outputs": [
    {
     "data": {
      "text/plain": [
       "<AxesSubplot:xlabel='title_year', ylabel='imdb_score'>"
      ]
     },
     "execution_count": 42,
     "metadata": {},
     "output_type": "execute_result"
    },
    {
     "data": {
      "image/png": "[encoded data removed]",
      "text/plain": [
       "<Figure size 432x288 with 1 Axes>"
      ]
     },
     "metadata": {
      "needs_background": "light"
     },
     "output_type": "display_data"
    }
   ],
   "source": [
    "data_sample1 = data[data.movie_facebook_likes>0]\n",
    "data_sample1.plot.scatter(\"title_year\", \"imdb_score\")"
   ]
  },
  {
   "cell_type": "markdown",
   "metadata": {},
   "source": [
    "Do movies get worst with years or is it because the imdb reviews were not much used before?"
   ]
  },
  {
   "cell_type": "code",
   "execution_count": 57,
   "metadata": {},
   "outputs": [
    {
     "data": {
      "text/plain": [
       "<AxesSubplot:xlabel='gross', ylabel='duration'>"
      ]
     },
     "execution_count": 57,
     "metadata": {},
     "output_type": "execute_result"
    },
    {
     "data": {
      "image/png": "[encoded data removed]",
      "text/plain": [
       "<Figure size 432x288 with 1 Axes>"
      ]
     },
     "metadata": {
      "needs_background": "light"
     },
     "output_type": "display_data"
    }
   ],
   "source": [
    "data_sample2 = data[data.movie_facebook_likes>0]\n",
    "data_sample2.plot.scatter(\"gross\", \"duration\")"
   ]
  },
  {
   "cell_type": "markdown",
   "metadata": {},
   "source": [
    "dataset: $70\\%$ training and $30\\%$ test \n",
    "\n",
    "\n",
    "Target  function: $f: x \\rightarrow y$\n",
    "\n",
    "Univariate linear regression:\n",
    "\n",
    "Data: $(x^1, y^1), \\ldots, (x^N, y^N)$\n",
    "\n",
    "hypothesis: $h_{\\theta} : x \\rightarrow y$\n",
    "\n",
    "$h_{\\theta}$ will be the target"
   ]
  },
  {
   "cell_type": "markdown",
   "metadata": {},
   "source": [
    "## Gradient descent algorithm\n",
    "\n",
    "We want to find a linear regression between x = log(budget) and y = log(gross).\n",
    "\n",
    "The linear regression consists in the hypothesis\n",
    "\n",
    "$h_\\theta (x) = \\theta_0 + \\theta_1 x$\n",
    "\n",
    "with the cost function\n",
    "\n",
    "$J(\\theta_0, \\theta_1) = \\frac{1}{2N}\n",
    "\\sum_{i=1}^N \\left( h_\\theta (x^{(i)}) - y^{(i)} \\right)^2$\n",
    "\n",
    "The iterative procedure of the gradient descent algorithm is then \n",
    "\n",
    "$\\theta_j := \\theta_j - \\alpha \\frac{\\partial}{\\partial \\theta_j} J(\\theta)$\n",
    "\n",
    "with $\\alpha$ the learning parameter and \n",
    "\n",
    "$\\frac{\\partial J}{\\partial \\theta_0} = \\frac{1}{N}\n",
    "\\sum_{i=1}^N \\left( h_\\theta (x^{(i)}) - y^{(i)} \\right)$\n",
    "\n",
    "$\\frac{\\partial J}{\\partial \\theta_1} = \\frac{1}{N}\n",
    "\\sum_{i=1}^N \\left( h_\\theta (x^{(i)}) - y^{(i)} \\right)x^{(i)}$"
   ]
  },
  {
   "cell_type": "code",
   "execution_count": 80,
   "metadata": {},
   "outputs": [
    {
     "data": {
      "image/png": "[encoded data removed]",
      "text/plain": [
       "<Figure size 432x288 with 1 Axes>"
      ]
     },
     "metadata": {
      "needs_background": "light"
     },
     "output_type": "display_data"
    }
   ],
   "source": [
    "x = np.log(np.array(data[\"budget\"]))\n",
    "y = np.log(np.array(data[\"gross\"]))\n",
    "plt.plot(x,y,'.')\n",
    "plt.show()"
   ]
  },
  {
   "cell_type": "markdown",
   "metadata": {},
   "source": [
    "### Question 2\n",
    "- Complete the following code to implement a gradient descent algorithm\n",
    "- Check how the convergence varies with $\\alpha$ (a plot of J as a function of t may help)"
   ]
  },
  {
   "cell_type": "code",
   "execution_count": 86,
   "metadata": {},
   "outputs": [
    {
     "data": {
      "text/plain": [
       "[<matplotlib.lines.Line2D at 0x26e1976e280>]"
      ]
     },
     "execution_count": 86,
     "metadata": {},
     "output_type": "execute_result"
    },
    {
     "data": {
      "image/png": "[encoded data removed]",
      "text/plain": [
       "<Figure size 432x288 with 1 Axes>"
      ]
     },
     "metadata": {
      "needs_background": "light"
     },
     "output_type": "display_data"
    }
   ],
   "source": [
    "T = 100  # number of steps\n",
    "alpha = 0.003  # learning parameter\n",
    "theta0 = 1.  # initial value\n",
    "theta1 = .1  # initial value\n",
    "N = len(x)  \n",
    "J = []\n",
    "\n",
    "for t in range(T):\n",
    "    dtheta0 = 0\n",
    "    dtheta1 = 1\n",
    "    Jstep = 0   # contribution to the total cost, when we apply the algorithm (see if it decreases well)\n",
    "    \n",
    "    for i in range(N):\n",
    "        h = theta0 + theta1 * x[i]\n",
    "        dtheta0 += (h - y[i])/N\n",
    "        dtheta1 += x[i] * (h - y[i])/N\n",
    "        Jstep += 1/(2*N)*(h - y[i])**2\n",
    "    \n",
    "    theta0 -= alpha * dtheta0\n",
    "    dtheta1 -= alpha * dtheta1\n",
    "    J.append(Jstep)   # direction of the algorithm\n",
    "    \n",
    "plt.plot(J)"
   ]
  },
  {
   "cell_type": "code",
   "execution_count": 72,
   "metadata": {},
   "outputs": [
    {
     "name": "stdout",
     "output_type": "stream",
     "text": [
      "4.633357176893011\n"
     ]
    }
   ],
   "source": [
    "print(theta0)"
   ]
  },
  {
   "cell_type": "markdown",
   "metadata": {},
   "source": [
    "### Plotting the result"
   ]
  },
  {
   "cell_type": "code",
   "execution_count": 85,
   "metadata": {},
   "outputs": [
    {
     "data": {
      "image/png": "[encoded data removed]",
      "text/plain": [
       "<Figure size 432x288 with 1 Axes>"
      ]
     },
     "metadata": {
      "needs_background": "light"
     },
     "output_type": "display_data"
    }
   ],
   "source": [
    "theta0_in = 3.\n",
    "theta1_in = 1.\n",
    "plt.plot(x,y,'.')\n",
    "plt.plot(x,theta0 + theta1 * x)\n",
    "plt.plot(x, theta0_in + theta1_in *x)\n",
    "plt.show()"
   ]
  },
  {
   "cell_type": "markdown",
   "metadata": {},
   "source": [
    "### Question 3\n",
    "The gradient descent algorithm can be improved.\n",
    "- Implement the same gradient descent algorithm but with rescaled data\n",
    "- Implement the algorithm with stochastic gradient descent (at each time step a data is randomly picked and the parameters are updated with this single data, N=1)\n",
    "- Implement the algorithm with mini-batches (at each time step n<N data are randomly picked and the parameters are updated with this data)"
   ]
  },
  {
   "cell_type": "code",
   "execution_count": 65,
   "metadata": {},
   "outputs": [
    {
     "data": {
      "text/plain": [
       "[<matplotlib.lines.Line2D at 0x26e180faa30>]"
      ]
     },
     "execution_count": 65,
     "metadata": {},
     "output_type": "execute_result"
    },
    {
     "data": {
      "image/png": "[encoded data removed]",
      "text/plain": [
       "<Figure size 432x288 with 1 Axes>"
      ]
     },
     "metadata": {
      "needs_background": "light"
     },
     "output_type": "display_data"
    }
   ],
   "source": [
    "x_rescaled = (x - np.mean(x)) / np.std(x)\n",
    "\n",
    "for t in range(T):\n",
    "    dtheta0 = 0\n",
    "    dtheta1 = 1\n",
    "    Jstep = 0   # contribution to the total cost, when we apply the algorithm (see if it decreases well)\n",
    "    \n",
    "    for i in range(N):\n",
    "        h = theta0 + theta1 * x_rescaled[i]\n",
    "        dtheta0 += (h - y[i])/N\n",
    "        dtheta1 += x_rescaled[i] * (h - y[i])/N\n",
    "        Jstep += 1/(2*N) *(h - y[i])**2\n",
    "    \n",
    "    theta0 -= alpha * dtheta0\n",
    "    dtheta1 -= alpha * dtheta1\n",
    "    \n",
    "    J.append(Jstep)   # direction of the algorithm\n",
    "    \n",
    "plt.plot(J)"
   ]
  },
  {
   "cell_type": "code",
   "execution_count": null,
   "metadata": {},
   "outputs": [],
   "source": [
    "# stochastic gradient (at each time step, the )\n",
    "for t in range(T):\n",
    "    dtheta0 = 0\n",
    "    dtheta1 = 1\n",
    "    Jstep = 0   # contribution to the total cost, when we apply the algorithm (see if it decreases well)\n",
    "    \n",
    "    for i in range(N):\n",
    "        h = theta0 + theta1 * x[i]\n",
    "        dtheta0 += (h - y[i])/N\n",
    "        dtheta1 += x[i] * (h - y[i])/N\n",
    "        Jstep += 1/(2*N) *(h - y[i])**2\n",
    "    \n",
    "    theta0 -= alpha * dtheta0\n",
    "    dtheta1 -= alpha * dtheta1\n",
    "    \n",
    "    J.append(Jstep)   # direction of the algorithm\n",
    "    \n",
    "plt.plot(J)"
   ]
  },
  {
   "cell_type": "markdown",
   "metadata": {},
   "source": [
    "## Regression by direct method\n",
    "The parameters $\\theta_0$ and $\\theta_1$ can also be obtained by the direct method\n",
    "\n",
    "$\\theta_1 = {\\langle (x - \\langle x \\rangle) (y - \\langle y \\rangle)} \\,/\\, {\\langle(x - \\langle x \\rangle)^2\\rangle}$\n",
    "\n",
    "$\\theta_0 = \\langle y \\rangle - \\theta_1 \\langle x \\rangle$\n",
    "\n",
    "### Question 4\n",
    "Complete the code below to calculate $\\theta_0$ and $\\theta_1$ directly."
   ]
  },
  {
   "cell_type": "code",
   "execution_count": null,
   "metadata": {},
   "outputs": [],
   "source": [
    "x = data[\"budget\"].apply(np.log)\n",
    "xm = x.mean()\n",
    "#..."
   ]
  },
  {
   "cell_type": "markdown",
   "metadata": {},
   "source": [
    "### Question 5\n",
    "Compare the different methods graphically and discuss why the results may be different. "
   ]
  },
  {
   "cell_type": "code",
   "execution_count": null,
   "metadata": {},
   "outputs": [],
   "source": []
  }
 ],
 "metadata": {
  "kernelspec": {
   "display_name": "Python 3 (ipykernel)",
   "language": "python",
   "name": "python3"
  },
  "language_info": {
   "codemirror_mode": {
    "name": "ipython",
    "version": 3
   },
   "file_extension": ".py",
   "mimetype": "text/x-python",
   "name": "python",
   "nbconvert_exporter": "python",
   "pygments_lexer": "ipython3",
   "version": "3.8.13"
  }
 },
 "nbformat": 4,
 "nbformat_minor": 4
}
